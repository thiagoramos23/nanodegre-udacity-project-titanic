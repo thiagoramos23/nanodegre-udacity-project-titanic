{
 "cells": [
  {
   "cell_type": "markdown",
   "metadata": {},
   "source": [
    "## Submission Report\n",
    "\n",
    "The selected dataset was the Titanic dataset. \n",
    "I was mostly concerned about the survived rate for some particular points of view. \n",
    "I did some analyzing on the data, created some age groups so I could work better with the ages and experimented some charts and plots.\n",
    "I need to remove some null values from ages.\n",
    "Here is the report:"
   ]
  },
  {
   "cell_type": "markdown",
   "metadata": {},
   "source": [
    "### TITANIC REPORT\n",
    "\n",
    "The Titanic was a ship that no sea could sink. Although no one expected the ship would sink on the first ever travel to the new world, it did. But the main point here is, why so many people died at that day? \n",
    "we know, for sure, that Titanic didn't have a board enough life boats to save everyone. But it could have been saved a lot more people. \n",
    "We are here to try to understand three main questions.\n",
    "\n",
    "1. **How likely a person was to survive being in the 1st class?**\n",
    "2. **Who would have more chances to survive, women or man?**\n",
    "3. **Do children were more likely to be saved?**"
   ]
  },
  {
   "cell_type": "code",
   "execution_count": 154,
   "metadata": {
    "collapsed": true
   },
   "outputs": [],
   "source": [
    "import pandas as pd\n",
    "import numpy as np\n",
    "\n",
    "#Reading CSV with pandas and setting to a variable that will be used later on the report.\n",
    "titanic_df = pd.read_csv(titanic_file)"
   ]
  },
  {
   "cell_type": "code",
   "execution_count": 155,
   "metadata": {},
   "outputs": [
    {
     "data": {
      "text/html": [
       "<div>\n",
       "<style>\n",
       "    .dataframe thead tr:only-child th {\n",
       "        text-align: right;\n",
       "    }\n",
       "\n",
       "    .dataframe thead th {\n",
       "        text-align: left;\n",
       "    }\n",
       "\n",
       "    .dataframe tbody tr th {\n",
       "        vertical-align: top;\n",
       "    }\n",
       "</style>\n",
       "<table border=\"1\" class=\"dataframe\">\n",
       "  <thead>\n",
       "    <tr style=\"text-align: right;\">\n",
       "      <th></th>\n",
       "      <th>PassengerId</th>\n",
       "      <th>Survived</th>\n",
       "      <th>Pclass</th>\n",
       "      <th>Age</th>\n",
       "      <th>SibSp</th>\n",
       "      <th>Parch</th>\n",
       "      <th>Fare</th>\n",
       "    </tr>\n",
       "  </thead>\n",
       "  <tbody>\n",
       "    <tr>\n",
       "      <th>count</th>\n",
       "      <td>891.000000</td>\n",
       "      <td>891.000000</td>\n",
       "      <td>891.000000</td>\n",
       "      <td>714.000000</td>\n",
       "      <td>891.000000</td>\n",
       "      <td>891.000000</td>\n",
       "      <td>891.000000</td>\n",
       "    </tr>\n",
       "    <tr>\n",
       "      <th>mean</th>\n",
       "      <td>446.000000</td>\n",
       "      <td>0.383838</td>\n",
       "      <td>2.308642</td>\n",
       "      <td>29.699118</td>\n",
       "      <td>0.523008</td>\n",
       "      <td>0.381594</td>\n",
       "      <td>32.204208</td>\n",
       "    </tr>\n",
       "    <tr>\n",
       "      <th>std</th>\n",
       "      <td>257.353842</td>\n",
       "      <td>0.486592</td>\n",
       "      <td>0.836071</td>\n",
       "      <td>14.526497</td>\n",
       "      <td>1.102743</td>\n",
       "      <td>0.806057</td>\n",
       "      <td>49.693429</td>\n",
       "    </tr>\n",
       "    <tr>\n",
       "      <th>min</th>\n",
       "      <td>1.000000</td>\n",
       "      <td>0.000000</td>\n",
       "      <td>1.000000</td>\n",
       "      <td>0.420000</td>\n",
       "      <td>0.000000</td>\n",
       "      <td>0.000000</td>\n",
       "      <td>0.000000</td>\n",
       "    </tr>\n",
       "    <tr>\n",
       "      <th>25%</th>\n",
       "      <td>223.500000</td>\n",
       "      <td>0.000000</td>\n",
       "      <td>2.000000</td>\n",
       "      <td>20.125000</td>\n",
       "      <td>0.000000</td>\n",
       "      <td>0.000000</td>\n",
       "      <td>7.910400</td>\n",
       "    </tr>\n",
       "    <tr>\n",
       "      <th>50%</th>\n",
       "      <td>446.000000</td>\n",
       "      <td>0.000000</td>\n",
       "      <td>3.000000</td>\n",
       "      <td>28.000000</td>\n",
       "      <td>0.000000</td>\n",
       "      <td>0.000000</td>\n",
       "      <td>14.454200</td>\n",
       "    </tr>\n",
       "    <tr>\n",
       "      <th>75%</th>\n",
       "      <td>668.500000</td>\n",
       "      <td>1.000000</td>\n",
       "      <td>3.000000</td>\n",
       "      <td>38.000000</td>\n",
       "      <td>1.000000</td>\n",
       "      <td>0.000000</td>\n",
       "      <td>31.000000</td>\n",
       "    </tr>\n",
       "    <tr>\n",
       "      <th>max</th>\n",
       "      <td>891.000000</td>\n",
       "      <td>1.000000</td>\n",
       "      <td>3.000000</td>\n",
       "      <td>80.000000</td>\n",
       "      <td>8.000000</td>\n",
       "      <td>6.000000</td>\n",
       "      <td>512.329200</td>\n",
       "    </tr>\n",
       "  </tbody>\n",
       "</table>\n",
       "</div>"
      ],
      "text/plain": [
       "       PassengerId    Survived      Pclass         Age       SibSp  \\\n",
       "count   891.000000  891.000000  891.000000  714.000000  891.000000   \n",
       "mean    446.000000    0.383838    2.308642   29.699118    0.523008   \n",
       "std     257.353842    0.486592    0.836071   14.526497    1.102743   \n",
       "min       1.000000    0.000000    1.000000    0.420000    0.000000   \n",
       "25%     223.500000    0.000000    2.000000   20.125000    0.000000   \n",
       "50%     446.000000    0.000000    3.000000   28.000000    0.000000   \n",
       "75%     668.500000    1.000000    3.000000   38.000000    1.000000   \n",
       "max     891.000000    1.000000    3.000000   80.000000    8.000000   \n",
       "\n",
       "            Parch        Fare  \n",
       "count  891.000000  891.000000  \n",
       "mean     0.381594   32.204208  \n",
       "std      0.806057   49.693429  \n",
       "min      0.000000    0.000000  \n",
       "25%      0.000000    7.910400  \n",
       "50%      0.000000   14.454200  \n",
       "75%      0.000000   31.000000  \n",
       "max      6.000000  512.329200  "
      ]
     },
     "execution_count": 155,
     "metadata": {},
     "output_type": "execute_result"
    }
   ],
   "source": [
    "#Done a describe to see the data in general.\n",
    "titanic_df.describe()"
   ]
  },
  {
   "cell_type": "code",
   "execution_count": 156,
   "metadata": {},
   "outputs": [
    {
     "data": {
      "text/plain": [
       "PassengerId      int64\n",
       "Survived         int64\n",
       "Pclass           int64\n",
       "Name            object\n",
       "Sex             object\n",
       "Age            float64\n",
       "SibSp            int64\n",
       "Parch            int64\n",
       "Ticket          object\n",
       "Fare           float64\n",
       "Cabin           object\n",
       "Embarked        object\n",
       "dtype: object"
      ]
     },
     "execution_count": 156,
     "metadata": {},
     "output_type": "execute_result"
    }
   ],
   "source": [
    "#Verifying the types\n",
    "titanic_df.dtypes"
   ]
  },
  {
   "cell_type": "code",
   "execution_count": 157,
   "metadata": {},
   "outputs": [],
   "source": [
    "#drop unused columns\n",
    "titanic_df.drop(['SibSp', 'Ticket', 'Cabin', 'Name', 'PassengerId', 'Embarked'], axis=1, inplace=True)"
   ]
  },
  {
   "cell_type": "code",
   "execution_count": 158,
   "metadata": {},
   "outputs": [
    {
     "data": {
      "text/plain": [
       "(891, 6)"
      ]
     },
     "execution_count": 158,
     "metadata": {},
     "output_type": "execute_result"
    }
   ],
   "source": [
    "#Getting to know the file. How much rows and columns it has.\n",
    "titanic_df.shape"
   ]
  },
  {
   "cell_type": "code",
   "execution_count": 159,
   "metadata": {},
   "outputs": [
    {
     "data": {
      "text/html": [
       "<div>\n",
       "<style>\n",
       "    .dataframe thead tr:only-child th {\n",
       "        text-align: right;\n",
       "    }\n",
       "\n",
       "    .dataframe thead th {\n",
       "        text-align: left;\n",
       "    }\n",
       "\n",
       "    .dataframe tbody tr th {\n",
       "        vertical-align: top;\n",
       "    }\n",
       "</style>\n",
       "<table border=\"1\" class=\"dataframe\">\n",
       "  <thead>\n",
       "    <tr style=\"text-align: right;\">\n",
       "      <th></th>\n",
       "      <th>Survived</th>\n",
       "      <th>Pclass</th>\n",
       "      <th>Sex</th>\n",
       "      <th>Age</th>\n",
       "      <th>Parch</th>\n",
       "      <th>Fare</th>\n",
       "    </tr>\n",
       "  </thead>\n",
       "  <tbody>\n",
       "    <tr>\n",
       "      <th>0</th>\n",
       "      <td>0</td>\n",
       "      <td>3</td>\n",
       "      <td>male</td>\n",
       "      <td>22.0</td>\n",
       "      <td>0</td>\n",
       "      <td>7.2500</td>\n",
       "    </tr>\n",
       "    <tr>\n",
       "      <th>1</th>\n",
       "      <td>1</td>\n",
       "      <td>1</td>\n",
       "      <td>female</td>\n",
       "      <td>38.0</td>\n",
       "      <td>0</td>\n",
       "      <td>71.2833</td>\n",
       "    </tr>\n",
       "    <tr>\n",
       "      <th>2</th>\n",
       "      <td>1</td>\n",
       "      <td>3</td>\n",
       "      <td>female</td>\n",
       "      <td>26.0</td>\n",
       "      <td>0</td>\n",
       "      <td>7.9250</td>\n",
       "    </tr>\n",
       "    <tr>\n",
       "      <th>3</th>\n",
       "      <td>1</td>\n",
       "      <td>1</td>\n",
       "      <td>female</td>\n",
       "      <td>35.0</td>\n",
       "      <td>0</td>\n",
       "      <td>53.1000</td>\n",
       "    </tr>\n",
       "    <tr>\n",
       "      <th>4</th>\n",
       "      <td>0</td>\n",
       "      <td>3</td>\n",
       "      <td>male</td>\n",
       "      <td>35.0</td>\n",
       "      <td>0</td>\n",
       "      <td>8.0500</td>\n",
       "    </tr>\n",
       "  </tbody>\n",
       "</table>\n",
       "</div>"
      ],
      "text/plain": [
       "   Survived  Pclass     Sex   Age  Parch     Fare\n",
       "0         0       3    male  22.0      0   7.2500\n",
       "1         1       1  female  38.0      0  71.2833\n",
       "2         1       3  female  26.0      0   7.9250\n",
       "3         1       1  female  35.0      0  53.1000\n",
       "4         0       3    male  35.0      0   8.0500"
      ]
     },
     "execution_count": 159,
     "metadata": {},
     "output_type": "execute_result"
    }
   ],
   "source": [
    "#Getting first 5 rows.\n",
    "titanic_df.head()"
   ]
  },
  {
   "cell_type": "code",
   "execution_count": 160,
   "metadata": {},
   "outputs": [
    {
     "data": {
      "text/plain": [
       "Survived    False\n",
       "Pclass      False\n",
       "Sex         False\n",
       "Age          True\n",
       "Parch       False\n",
       "Fare        False\n",
       "dtype: bool"
      ]
     },
     "execution_count": 160,
     "metadata": {},
     "output_type": "execute_result"
    }
   ],
   "source": [
    "#Verifying if there are any null values\n",
    "pd.isnull(titanic_df).any()"
   ]
  },
  {
   "cell_type": "code",
   "execution_count": 161,
   "metadata": {},
   "outputs": [
    {
     "data": {
      "text/plain": [
       "<bound method DataFrame.count of      Survived  Pclass     Sex   Age  Parch      Fare\n",
       "0           0       3    male  22.0      0    7.2500\n",
       "1           1       1  female  38.0      0   71.2833\n",
       "2           1       3  female  26.0      0    7.9250\n",
       "3           1       1  female  35.0      0   53.1000\n",
       "4           0       3    male  35.0      0    8.0500\n",
       "6           0       1    male  54.0      0   51.8625\n",
       "7           0       3    male   2.0      1   21.0750\n",
       "8           1       3  female  27.0      2   11.1333\n",
       "9           1       2  female  14.0      0   30.0708\n",
       "10          1       3  female   4.0      1   16.7000\n",
       "11          1       1  female  58.0      0   26.5500\n",
       "12          0       3    male  20.0      0    8.0500\n",
       "13          0       3    male  39.0      5   31.2750\n",
       "14          0       3  female  14.0      0    7.8542\n",
       "15          1       2  female  55.0      0   16.0000\n",
       "16          0       3    male   2.0      1   29.1250\n",
       "18          0       3  female  31.0      0   18.0000\n",
       "20          0       2    male  35.0      0   26.0000\n",
       "21          1       2    male  34.0      0   13.0000\n",
       "22          1       3  female  15.0      0    8.0292\n",
       "23          1       1    male  28.0      0   35.5000\n",
       "24          0       3  female   8.0      1   21.0750\n",
       "25          1       3  female  38.0      5   31.3875\n",
       "27          0       1    male  19.0      2  263.0000\n",
       "30          0       1    male  40.0      0   27.7208\n",
       "33          0       2    male  66.0      0   10.5000\n",
       "34          0       1    male  28.0      0   82.1708\n",
       "35          0       1    male  42.0      0   52.0000\n",
       "37          0       3    male  21.0      0    8.0500\n",
       "38          0       3  female  18.0      0   18.0000\n",
       "..        ...     ...     ...   ...    ...       ...\n",
       "856         1       1  female  45.0      1  164.8667\n",
       "857         1       1    male  51.0      0   26.5500\n",
       "858         1       3  female  24.0      3   19.2583\n",
       "860         0       3    male  41.0      0   14.1083\n",
       "861         0       2    male  21.0      0   11.5000\n",
       "862         1       1  female  48.0      0   25.9292\n",
       "864         0       2    male  24.0      0   13.0000\n",
       "865         1       2  female  42.0      0   13.0000\n",
       "866         1       2  female  27.0      0   13.8583\n",
       "867         0       1    male  31.0      0   50.4958\n",
       "869         1       3    male   4.0      1   11.1333\n",
       "870         0       3    male  26.0      0    7.8958\n",
       "871         1       1  female  47.0      1   52.5542\n",
       "872         0       1    male  33.0      0    5.0000\n",
       "873         0       3    male  47.0      0    9.0000\n",
       "874         1       2  female  28.0      0   24.0000\n",
       "875         1       3  female  15.0      0    7.2250\n",
       "876         0       3    male  20.0      0    9.8458\n",
       "877         0       3    male  19.0      0    7.8958\n",
       "879         1       1  female  56.0      1   83.1583\n",
       "880         1       2  female  25.0      1   26.0000\n",
       "881         0       3    male  33.0      0    7.8958\n",
       "882         0       3  female  22.0      0   10.5167\n",
       "883         0       2    male  28.0      0   10.5000\n",
       "884         0       3    male  25.0      0    7.0500\n",
       "885         0       3  female  39.0      5   29.1250\n",
       "886         0       2    male  27.0      0   13.0000\n",
       "887         1       1  female  19.0      0   30.0000\n",
       "889         1       1    male  26.0      0   30.0000\n",
       "890         0       3    male  32.0      0    7.7500\n",
       "\n",
       "[714 rows x 6 columns]>"
      ]
     },
     "execution_count": 161,
     "metadata": {},
     "output_type": "execute_result"
    }
   ],
   "source": [
    "#Removing all rows that has Age as NaN. \n",
    "#It was removed 177 rows\n",
    "df_without_null_ages = titanic_df[titanic_df['Age'].notnull()].copy()\n",
    "df_without_null_ages.count"
   ]
  },
  {
   "cell_type": "code",
   "execution_count": 162,
   "metadata": {
    "collapsed": true
   },
   "outputs": [],
   "source": [
    "# Getting only survived rows and copy to the new dataframe survived_df\n",
    "survived_df = titanic_df[titanic_df['Survived'].isin([1])].copy()"
   ]
  },
  {
   "cell_type": "markdown",
   "metadata": {},
   "source": [
    "It is hard to work with ages because, besides the fact that is a number, it's hard to categorize people. So the solution was to create a new field called Age_Category that would use the function cutDF and apply that to the data frame."
   ]
  },
  {
   "cell_type": "code",
   "execution_count": 163,
   "metadata": {
    "collapsed": true
   },
   "outputs": [],
   "source": [
    "#This method will create categories for a range of ages. Ex.: From 0-13 is a Child, 14-18 is a Teenager\n",
    "def cutDF(df):\n",
    "    return pd.cut(df,[0, 13, 18, 25, 40, 50, 60, 120], labels=['Child', 'Teenager', 'Young Adult', 'Adult', 'lower_middle', 'upper_middle', 'OAP'])\n",
    "\n",
    "#Creating new field called Age_Category using the method above to be processed using the apply method.\n",
    "df_without_null_ages['Age_Category'] = df_without_null_ages[['Age']].apply(cutDF)"
   ]
  },
  {
   "cell_type": "code",
   "execution_count": 164,
   "metadata": {
    "collapsed": true
   },
   "outputs": [],
   "source": [
    "#This method calculates the percentage of survival for a specified class that could be (1st class, 2nd class or 3th class).\n",
    "#p_class is an integer\n",
    "def percentage_survived(p_class):    \n",
    "    p_class_frame = titanic_df[titanic_df['Pclass'].isin([p_class])]\n",
    "    total_class = len(p_class_frame)\n",
    "    total_survived = p_class_frame.agg({'Survived': 'sum'})\n",
    "    return (total_survived / total_class) * 100"
   ]
  },
  {
   "cell_type": "markdown",
   "metadata": {},
   "source": [
    "***Question 1: How likely a person was to survive being in the 1st class?***\n",
    "\n",
    "For the first question we can answer that being in the 1st class would give you a 62% of chances to survive."
   ]
  },
  {
   "cell_type": "code",
   "execution_count": 165,
   "metadata": {},
   "outputs": [
    {
     "name": "stdout",
     "output_type": "stream",
     "text": [
      "Rate for 1st class Survived    62.962963\n",
      "dtype: float64\n",
      "Rate for 2nd class Survived    47.282609\n",
      "dtype: float64\n",
      "Rate for 3th class Survived    24.236253\n",
      "dtype: float64\n"
     ]
    }
   ],
   "source": [
    "#Those methods use the percentage_survived passing all three classes to see the survival rate for each one.\n",
    "print('Rate for 1st class {}'.format(percentage_survived(1)))\n",
    "print('Rate for 2nd class {}'.format(percentage_survived(2)))\n",
    "print('Rate for 3th class {}'.format(percentage_survived(3)))"
   ]
  },
  {
   "cell_type": "markdown",
   "metadata": {},
   "source": [
    "***Who would have more chances to survive, women or man?***\n",
    "\n",
    "For the second question, it's clear looking at the graphs below that being a woman would be more likely to survive than a man, but being a woman on the 3th class drastically dropped the survival rate."
   ]
  },
  {
   "cell_type": "code",
   "execution_count": 166,
   "metadata": {},
   "outputs": [
    {
     "data": {
      "text/plain": [
       "<seaborn.axisgrid.FacetGrid at 0x11cf837f0>"
      ]
     },
     "execution_count": 166,
     "metadata": {},
     "output_type": "execute_result"
    },
    {
     "data": {
      "image/png": "[encoded data removed]",
      "text/plain": [
       "<matplotlib.figure.Figure at 0x11c6409e8>"
      ]
     },
     "metadata": {},
     "output_type": "display_data"
    }
   ],
   "source": [
    "%matplotlib inline\n",
    "import seaborn as sns\n",
    "\n",
    "#Create a factor plot using the Sex as X column, Survived as Y column and spliting the data by Pclass. \n",
    "#This plot informs the rate of survival for males and females for each Pclass.\n",
    "factor = sns.factorplot(x=\"Sex\", y=\"Survived\", col=\"Pclass\", data=titanic_df , kind=\"bar\")\n",
    "factor.set(title=\"Survival rates Men/Women by class\")"
   ]
  },
  {
   "cell_type": "markdown",
   "metadata": {},
   "source": [
    "The plot above clearly shows that being a woman would improve drasctically the probability of survival even if you were in the 3th class. "
   ]
  },
  {
   "cell_type": "code",
   "execution_count": 167,
   "metadata": {},
   "outputs": [
    {
     "data": {
      "text/plain": [
       "[<matplotlib.text.Text at 0x11d883978>,\n",
       " <matplotlib.text.Text at 0x11d874630>,\n",
       " <matplotlib.text.Text at 0x11d99d128>]"
      ]
     },
     "execution_count": 167,
     "metadata": {},
     "output_type": "execute_result"
    },
    {
     "data": {
      "image/png": "[encoded data removed]",
      "text/plain": [
       "<matplotlib.figure.Figure at 0x11d82f860>"
      ]
     },
     "metadata": {},
     "output_type": "display_data"
    }
   ],
   "source": [
    "#This plot uses Pclass as x column, Survived as Y column and split by Sex.\n",
    "plot = sns.pointplot(x=\"Pclass\", y=\"Survived\", hue=\"Sex\", data=titanic_df,\n",
    "              palette={\"male\": \"blue\", \"female\": \"pink\"},\n",
    "              markers=[\"*\", \"o\"], linestyles=[\"-\", \"--\"]);\n",
    "plot.set(title=\"Survaival rate by sex between classes\", xlabel=\"Classes\", ylabel=\"Survived\")"
   ]
  },
  {
   "cell_type": "markdown",
   "metadata": {},
   "source": [
    "Here we can see that the rate of survival drops drastically when it comes to 3th class people, but still, being a woman is far better than being man."
   ]
  },
  {
   "cell_type": "markdown",
   "metadata": {},
   "source": [
    "***Do children were more likely to be saved?***\n",
    "\n",
    "For the third question, yes. Children were more likely to be saved even if the children were in the 3th class the survival rate were a lot higher than other ages. But even then, third class passengers were clearly left to die."
   ]
  },
  {
   "cell_type": "code",
   "execution_count": 168,
   "metadata": {},
   "outputs": [
    {
     "data": {
      "text/plain": [
       "[<matplotlib.text.Text at 0x11da0a7f0>,\n",
       " <matplotlib.text.Text at 0x11d83a3c8>,\n",
       " <matplotlib.text.Text at 0x11da47898>]"
      ]
     },
     "execution_count": 168,
     "metadata": {},
     "output_type": "execute_result"
    },
    {
     "data": {
      "image/png": "[encoded data removed]",
      "text/plain": [
       "<matplotlib.figure.Figure at 0x11d9c6cf8>"
      ]
     },
     "metadata": {},
     "output_type": "display_data"
    }
   ],
   "source": [
    "#This bar shows the survival rate by age cateogry.\n",
    "bar = sns.barplot(data=df_without_null_ages, x= 'Age_Category', y='Survived')\n",
    "bar.set(title=\"Ages by category\", xlabel='Age Category', ylabel='Survived')"
   ]
  },
  {
   "cell_type": "markdown",
   "metadata": {},
   "source": [
    "Here we can see the survival rate by age category. It's clearly that being a child would increase the chances to survive."
   ]
  },
  {
   "cell_type": "code",
   "execution_count": 169,
   "metadata": {},
   "outputs": [
    {
     "data": {
      "text/plain": [
       "[<matplotlib.text.Text at 0x11db006a0>,\n",
       " <matplotlib.text.Text at 0x11da85c88>,\n",
       " <matplotlib.text.Text at 0x11db28b38>]"
      ]
     },
     "execution_count": 169,
     "metadata": {},
     "output_type": "execute_result"
    },
    {
     "data": {
      "image/png": "[encoded data removed]",
      "text/plain": [
       "<matplotlib.figure.Figure at 0x11c6407f0>"
      ]
     },
     "metadata": {},
     "output_type": "display_data"
    }
   ],
   "source": [
    "#This bar show the survival rate by age category but it shows for each Pclass.\n",
    "bar = sns.barplot(data=df_without_null_ages, x= 'Age_Category', y='Survived', hue='Pclass')\n",
    "bar.set(title=\"Survival rate by age and class\", xlabel='Age Category', ylabel='Survived')"
   ]
  },
  {
   "cell_type": "markdown",
   "metadata": {},
   "source": [
    "It's clear that being a first class person is more likely to survive, but being a child would increase your chances even if you are not in the 1st class. What is unexpected is that older people tend to survive even if not in the first class either but the same cannot be said for thirs class passengers."
   ]
  },
  {
   "cell_type": "markdown",
   "metadata": {},
   "source": [
    "### Conclusion\n",
    "\n",
    "Although the data does not contains all the passengers from the Titanic (total of 1,317. This dataset has 891), it was possible to make some conclusions of survival rate between sex and between sex, age and classes. \n",
    "In this report we do not analyzed cabin or fare relations to survival rate and we need to cut out some values that do not had Age field populated.\n",
    "I think we could use some correlation statistical tests but they would not be conclusive.\n",
    "\n",
    "What it's clear from this dataset is that 1st class and 2nd class passengers had much more chance to survive and even more if they were women."
   ]
  }
 ],
 "metadata": {
  "kernelspec": {
   "display_name": "Python 3",
   "language": "python",
   "name": "python3"
  },
  "language_info": {
   "codemirror_mode": {
    "name": "ipython",
    "version": 3
   },
   "file_extension": ".py",
   "mimetype": "text/x-python",
   "name": "python",
   "nbconvert_exporter": "python",
   "pygments_lexer": "ipython3",
   "version": "3.6.2"
  }
 },
 "nbformat": 4,
 "nbformat_minor": 2
}
