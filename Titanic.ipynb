{
 "cells": [
  {
   "cell_type": "markdown",
   "metadata": {},
   "source": [
    "**Submission Report**\n",
    "\n",
    "The selected dataset was the Titanic dataset. \n",
    "I was mostly concerned about the survived rate for some particular points of view. \n",
    "I did some analyzing on the data, created some age groups so I could work better with the ages and experimented some charts and plots.\n",
    "I need to remove some null values from ages.\n",
    "Here is the report:"
   ]
  },
  {
   "cell_type": "markdown",
   "metadata": {},
   "source": [
    "***TITANIC REPORT***\n",
    "\n",
    "The Titanic was a ship that no sea could sink. Although no one expected the ship would sink on the first ever travel to the new world, it did. But the main point here is, why so many people died at that day? \n",
    "we know, for sure, that Titanic didn't have a board enough life boats to save everyone. But it could have been saved a lot more people. \n",
    "We are here to try to understand three main questions.\n",
    "\n",
    "1. How likely a person was to survive being in the 1st class?\n",
    "2. Who would have more chances to survive, women or man?\n",
    "3. Do children were more likely to be saved?"
   ]
  },
  {
   "cell_type": "code",
   "execution_count": 96,
   "metadata": {},
   "outputs": [
    {
     "name": "stdout",
     "output_type": "stream",
     "text": [
      "OrderedDict([('PassengerId', '1'), ('Survived', '0'), ('Pclass', '3'), ('Name', 'Braund, Mr. Owen Harris'), ('Sex', 'male'), ('Age', '22'), ('SibSp', '1'), ('Parch', '0'), ('Ticket', 'A/5 21171'), ('Fare', '7.25'), ('Cabin', ''), ('Embarked', 'S')])\n"
     ]
    }
   ],
   "source": [
    "titanic_file = '/Users/thramosal/Documents/PROJETOS/PERSONAL_PROJECTS/DATA_ANALYSIS_NANODEGREE/data_analysis/titanic_data.csv'\n",
    "\n",
    "def read_csv(file):\n",
    "    with open(file, 'rb') as f:\n",
    "        reader = unicodecsv.DictReader(f)\n",
    "        return list(reader)\n",
    "\n",
    "titanic_data = read_csv(titanic_file)\n",
    "print(titanic_data[0])"
   ]
  },
  {
   "cell_type": "code",
   "execution_count": 97,
   "metadata": {},
   "outputs": [],
   "source": [
    "import pandas as pd\n",
    "\n",
    "titanic_df = pd.read_csv(titanic_file)"
   ]
  },
  {
   "cell_type": "code",
   "execution_count": 98,
   "metadata": {},
   "outputs": [],
   "source": [
    "survived_df = titanic_df[titanic_df['Survived'].isin([1])].copy()"
   ]
  },
  {
   "cell_type": "code",
   "execution_count": 99,
   "metadata": {
    "collapsed": true
   },
   "outputs": [],
   "source": [
    "ex_null_age = titanic_df[titanic_df['Age'].notnull()].copy()\n",
    "def cutDF(df):\n",
    "    return pd.cut(df,[0, 13, 18, 25, 40, 50, 60, 120], labels=['Child', 'Teenager', 'Young Adult', 'Adult', 'lower_middle', 'upper_middle', 'OAP'])\n",
    "\n",
    "ex_null_age['Age_Category'] = ex_null_age[['Age']].apply(cutDF)"
   ]
  },
  {
   "cell_type": "code",
   "execution_count": 100,
   "metadata": {},
   "outputs": [],
   "source": [
    "def percentage_survived(p_class):    \n",
    "    p_class_frame = titanic_df[titanic_df['Pclass'].isin([p_class])]\n",
    "    total_class = len(p_class_frame)\n",
    "    total_survived = p_class_frame.agg({'Survived': 'sum'})\n",
    "    return (total_survived / total_class) * 100"
   ]
  },
  {
   "cell_type": "markdown",
   "metadata": {},
   "source": [
    "***Question 1: How likely a person was to survive being in the 1st class?***\n",
    "\n",
    "For the first question we can answer that being in the 1st class would give you a 62% of chances to survive."
   ]
  },
  {
   "cell_type": "code",
   "execution_count": 101,
   "metadata": {},
   "outputs": [
    {
     "name": "stdout",
     "output_type": "stream",
     "text": [
      "Rate for 1st class Survived    62.962963\n",
      "dtype: float64\n",
      "Rate for 2nd class Survived    47.282609\n",
      "dtype: float64\n",
      "Rate for 3th class Survived    24.236253\n",
      "dtype: float64\n"
     ]
    }
   ],
   "source": [
    "print('Rate for 1st class {}'.format(percentage_survived(1)))\n",
    "print('Rate for 2nd class {}'.format(percentage_survived(2)))\n",
    "print('Rate for 3th class {}'.format(percentage_survived(3)))"
   ]
  },
  {
   "cell_type": "markdown",
   "metadata": {},
   "source": [
    "***Who would have more chances to survive, women or man?***\n",
    "\n",
    "For the second question, it's clear looking at the graphs below that being a woman would be more likely to survive than a man, but being a woman on the 3th class drastically dropped the survival rate."
   ]
  },
  {
   "cell_type": "code",
   "execution_count": 102,
   "metadata": {},
   "outputs": [
    {
     "data": {
      "text/plain": [
       "<seaborn.axisgrid.FacetGrid at 0x11b1a6be0>"
      ]
     },
     "execution_count": 102,
     "metadata": {},
     "output_type": "execute_result"
    },
    {
     "data": {
      "image/png": "[encoded data removed]",
      "text/plain": [
       "<matplotlib.figure.Figure at 0x11b3920b8>"
      ]
     },
     "metadata": {},
     "output_type": "display_data"
    }
   ],
   "source": [
    "%matplotlib inline\n",
    "import seaborn as sns\n",
    "sns.factorplot(x=\"Sex\", y=\"Survived\", col=\"Pclass\", data=titanic_df , kind=\"bar\")"
   ]
  },
  {
   "cell_type": "code",
   "execution_count": 103,
   "metadata": {},
   "outputs": [
    {
     "data": {
      "image/png": "[encoded data removed]",
      "text/plain": [
       "<matplotlib.figure.Figure at 0x11b5cea90>"
      ]
     },
     "metadata": {},
     "output_type": "display_data"
    }
   ],
   "source": [
    "sns.pointplot(x=\"Pclass\", y=\"Survived\", hue=\"Sex\", data=titanic_df,\n",
    "              palette={\"male\": \"blue\", \"female\": \"pink\"},\n",
    "              markers=[\"*\", \"o\"], linestyles=[\"-\", \"--\"]);"
   ]
  },
  {
   "cell_type": "markdown",
   "metadata": {},
   "source": [
    "***Do children were more likely to be saved?***\n",
    "\n",
    "For the third question, yes. Children were more likely to be saved even if the children were in the 3th class the survival rate were a lot higher than other ages. But even then, third class passengers were clearly left to die."
   ]
  },
  {
   "cell_type": "code",
   "execution_count": 104,
   "metadata": {},
   "outputs": [
    {
     "data": {
      "text/plain": [
       "<matplotlib.axes._subplots.AxesSubplot at 0x111fc13c8>"
      ]
     },
     "execution_count": 104,
     "metadata": {},
     "output_type": "execute_result"
    },
    {
     "data": {
      "image/png": "[encoded data removed]",
      "text/plain": [
       "<matplotlib.figure.Figure at 0x11b4330f0>"
      ]
     },
     "metadata": {},
     "output_type": "display_data"
    }
   ],
   "source": [
    "sns.barplot(data=ex_null_age, x= 'Age_Category', y='Survived')"
   ]
  },
  {
   "cell_type": "code",
   "execution_count": 105,
   "metadata": {},
   "outputs": [
    {
     "data": {
      "text/plain": [
       "<matplotlib.axes._subplots.AxesSubplot at 0x11b0c49e8>"
      ]
     },
     "execution_count": 105,
     "metadata": {},
     "output_type": "execute_result"
    },
    {
     "data": {
      "image/png": "[encoded data removed]",
      "text/plain": [
       "<matplotlib.figure.Figure at 0x111f97c50>"
      ]
     },
     "metadata": {},
     "output_type": "display_data"
    }
   ],
   "source": [
    "sns.barplot(data=ex_null_age, x= 'Age_Category', y='Survived', hue='Pclass')"
   ]
  }
 ],
 "metadata": {
  "kernelspec": {
   "display_name": "Python 3",
   "language": "python",
   "name": "python3"
  },
  "language_info": {
   "codemirror_mode": {
    "name": "ipython",
    "version": 3
   },
   "file_extension": ".py",
   "mimetype": "text/x-python",
   "name": "python",
   "nbconvert_exporter": "python",
   "pygments_lexer": "ipython3",
   "version": "3.6.2"
  }
 },
 "nbformat": 4,
 "nbformat_minor": 2
}
